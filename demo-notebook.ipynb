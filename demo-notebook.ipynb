{
 "cells": [
  {
   "cell_type": "code",
   "execution_count": 1,
   "metadata": {},
   "outputs": [
    {
     "data": {
      "text/html": [
       "<pre style=\"white-space:pre;overflow-x:auto;line-height:normal;font-family:Menlo,'DejaVu Sans Mono',consolas,'Courier New',monospace\"><span style=\"color: #7fbfbf; text-decoration-color: #7fbfbf\">[09:07:25] </span><span style=\"color: #000080; text-decoration-color: #000080\">INFO    </span> Calling <span style=\"color: #0000ff; text-decoration-color: #0000ff; text-decoration: underline\">https://app.daisi.io/pebble-api/daisies/connect?name=soul0101/Speech</span>     <a href=\"file://c:\\Users\\91983\\anaconda3\\envs\\face\\lib\\site-packages\\pydaisi\\pydaisi.py\" target=\"_blank\"><span style=\"color: #7f7f7f; text-decoration-color: #7f7f7f\">pydaisi.py</span></a><span style=\"color: #7f7f7f; text-decoration-color: #7f7f7f\">:</span><a href=\"file://c:\\Users\\91983\\anaconda3\\envs\\face\\lib\\site-packages\\pydaisi\\pydaisi.py#411\" target=\"_blank\"><span style=\"color: #7f7f7f; text-decoration-color: #7f7f7f\">411</span></a>\n",
       "<span style=\"color: #7fbfbf; text-decoration-color: #7fbfbf\">           </span>         Emotion Recognition                                                              <span style=\"color: #7f7f7f; text-decoration-color: #7f7f7f\">              </span>\n",
       "</pre>\n"
      ],
      "text/plain": [
       "\u001b[2;36m[09:07:25]\u001b[0m\u001b[2;36m \u001b[0m\u001b[34mINFO    \u001b[0m Calling \u001b[4;94mhttps://app.daisi.io/pebble-api/daisies/connect?\u001b[0m\u001b[4;94mname\u001b[0m\u001b[4;94m=\u001b[0m\u001b[4;94msoul0101\u001b[0m\u001b[4;94m/Speech\u001b[0m     \u001b]8;id=801035;file://c:\\Users\\91983\\anaconda3\\envs\\face\\lib\\site-packages\\pydaisi\\pydaisi.py\u001b\\\u001b[2mpydaisi.py\u001b[0m\u001b]8;;\u001b\\\u001b[2m:\u001b[0m\u001b]8;id=396087;file://c:\\Users\\91983\\anaconda3\\envs\\face\\lib\\site-packages\\pydaisi\\pydaisi.py#411\u001b\\\u001b[2m411\u001b[0m\u001b]8;;\u001b\\\n",
       "\u001b[2;36m           \u001b[0m         Emotion Recognition                                                              \u001b[2m              \u001b[0m\n"
      ]
     },
     "metadata": {},
     "output_type": "display_data"
    },
    {
     "data": {
      "text/html": [
       "<pre style=\"white-space:pre;overflow-x:auto;line-height:normal;font-family:Menlo,'DejaVu Sans Mono',consolas,'Courier New',monospace\"><span style=\"color: #7fbfbf; text-decoration-color: #7fbfbf\">[09:07:28] </span><span style=\"color: #000080; text-decoration-color: #000080\">INFO    </span> Found existing Daisi: <span style=\"color: #ffff00; text-decoration-color: #ffff00\">bc367901-9e78-4adf-99dd-3a3a58f8b365</span>                       <a href=\"file://c:\\Users\\91983\\anaconda3\\envs\\face\\lib\\site-packages\\pydaisi\\pydaisi.py\" target=\"_blank\"><span style=\"color: #7f7f7f; text-decoration-color: #7f7f7f\">pydaisi.py</span></a><span style=\"color: #7f7f7f; text-decoration-color: #7f7f7f\">:</span><a href=\"file://c:\\Users\\91983\\anaconda3\\envs\\face\\lib\\site-packages\\pydaisi\\pydaisi.py#424\" target=\"_blank\"><span style=\"color: #7f7f7f; text-decoration-color: #7f7f7f\">424</span></a>\n",
       "</pre>\n"
      ],
      "text/plain": [
       "\u001b[2;36m[09:07:28]\u001b[0m\u001b[2;36m \u001b[0m\u001b[34mINFO    \u001b[0m Found existing Daisi: \u001b[93mbc367901-9e78-4adf-99dd-3a3a58f8b365\u001b[0m                       \u001b]8;id=554025;file://c:\\Users\\91983\\anaconda3\\envs\\face\\lib\\site-packages\\pydaisi\\pydaisi.py\u001b\\\u001b[2mpydaisi.py\u001b[0m\u001b]8;;\u001b\\\u001b[2m:\u001b[0m\u001b]8;id=602373;file://c:\\Users\\91983\\anaconda3\\envs\\face\\lib\\site-packages\\pydaisi\\pydaisi.py#424\u001b\\\u001b[2m424\u001b[0m\u001b]8;;\u001b\\\n"
      ]
     },
     "metadata": {},
     "output_type": "display_data"
    }
   ],
   "source": [
    "import os\n",
    "import librosa\n",
    "import pydaisi as pyd\n",
    "\n",
    "speech_emotion_recognition = pyd.Daisi(\"soul0101/Speech Emotion Recognition\")"
   ]
  },
  {
   "cell_type": "code",
   "execution_count": 2,
   "metadata": {},
   "outputs": [],
   "source": [
    "# Load audio file \n",
    "\n",
    "with open(\"./test-rec.wav\", \"rb\") as f:\n",
    "    audio_data, sample_rate = librosa.load(f, sr=16000) "
   ]
  },
  {
   "cell_type": "code",
   "execution_count": 3,
   "metadata": {},
   "outputs": [
    {
     "data": {
      "text/html": [
       "<pre style=\"white-space:pre;overflow-x:auto;line-height:normal;font-family:Menlo,'DejaVu Sans Mono',consolas,'Courier New',monospace\"><span style=\"font-weight: bold\">[[</span><span style=\"color: #008000; text-decoration-color: #008000\">'Disgust'</span>, <span style=\"color: #008000; text-decoration-color: #008000\">'Disgust'</span>, <span style=\"color: #008000; text-decoration-color: #008000\">'Happy'</span><span style=\"font-weight: bold\">]</span>, <span style=\"color: #800080; text-decoration-color: #800080; font-weight: bold\">array</span><span style=\"font-weight: bold\">([</span><span style=\"color: #008080; text-decoration-color: #008080; font-weight: bold\">3</span>., <span style=\"color: #008080; text-decoration-color: #008080; font-weight: bold\">4</span>., <span style=\"color: #008080; text-decoration-color: #008080; font-weight: bold\">5</span>.<span style=\"font-weight: bold\">])]</span>\n",
       "</pre>\n"
      ],
      "text/plain": [
       "\u001b[1m[\u001b[0m\u001b[1m[\u001b[0m\u001b[32m'Disgust'\u001b[0m, \u001b[32m'Disgust'\u001b[0m, \u001b[32m'Happy'\u001b[0m\u001b[1m]\u001b[0m, \u001b[1;35marray\u001b[0m\u001b[1m(\u001b[0m\u001b[1m[\u001b[0m\u001b[1;36m3\u001b[0m., \u001b[1;36m4\u001b[0m., \u001b[1;36m5\u001b[0m.\u001b[1m]\u001b[0m\u001b[1m)\u001b[0m\u001b[1m]\u001b[0m\n"
      ]
     },
     "metadata": {},
     "output_type": "display_data"
    }
   ],
   "source": [
    "predictions = speech_emotion_recognition.predict_emotion_from_stream(audio_data, sample_rate).value\n",
    "predictions"
   ]
  },
  {
   "cell_type": "code",
   "execution_count": 4,
   "metadata": {},
   "outputs": [
    {
     "data": {
      "image/png": "[encoded data removed]"
     },
     "metadata": {
      "needs_background": "light"
     },
     "output_type": "display_data"
    }
   ],
   "source": [
    "import numpy as np\n",
    "import matplotlib.pyplot as plt\n",
    "\n",
    "fig, ax = plt.subplots()\n",
    "time = np.linspace(0, len(audio_data) / sample_rate, num=len(audio_data))\n",
    "plt.plot(time, audio_data)\n",
    "emotion_colors = {'Angry': 'red', 'Disgust': 'green', 'Fear': 'purple', 'Happy': 'yellow', 'Neutral' : 'grey', 'Sad': 'blue', 'Surprise': 'orange'}\n",
    "\n",
    "for i in range(len(predictions[1])):\n",
    "    if i == 0:\n",
    "        plt.axvspan(0, predictions[1][i], color = emotion_colors[predictions[0][i]], alpha=0.5, zorder=-100, label=predictions[0][i])\n",
    "    else:\n",
    "        plt.axvspan(predictions[1][i-1], predictions[1][i], color = emotion_colors[predictions[0][i]], alpha=0.5, zorder=-100, label=predictions[0][i])\n",
    "\n",
    "handles, labels = plt.gca().get_legend_handles_labels()\n",
    "by_label = dict(zip(labels, handles))\n",
    "plt.legend(by_label.values(), by_label.keys())\n",
    "plt.show()"
   ]
  }
 ],
 "metadata": {
  "kernelspec": {
   "display_name": "Python 3.9.1 ('face')",
   "language": "python",
   "name": "python3"
  },
  "language_info": {
   "codemirror_mode": {
    "name": "ipython",
    "version": 3
   },
   "file_extension": ".py",
   "mimetype": "text/x-python",
   "name": "python",
   "nbconvert_exporter": "python",
   "pygments_lexer": "ipython3",
   "version": "3.9.1"
  },
  "orig_nbformat": 4,
  "vscode": {
   "interpreter": {
    "hash": "0015dbe0128247db5ee375288c307af905a456c2f7f82485d02b896432d2a5fb"
   }
  }
 },
 "nbformat": 4,
 "nbformat_minor": 2
}
